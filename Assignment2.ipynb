{
 "cells": [
  {
   "cell_type": "code",
   "execution_count": 8,
   "id": "43f60227",
   "metadata": {},
   "outputs": [],
   "source": [
    "import pandas as pd\n",
    "from pandas import Series, DataFrame\n",
    "import numpy as np"
   ]
  },
  {
   "cell_type": "code",
   "execution_count": 2,
   "id": "325063d0",
   "metadata": {},
   "outputs": [],
   "source": [
    "csv_file = '/Users/indureddypailla/DataEngineeringExcercises/Studentdata.csv'\n",
    "studentsData = pd.read_csv(csv_file)"
   ]
  },
  {
   "cell_type": "code",
   "execution_count": 3,
   "id": "dd18b637",
   "metadata": {},
   "outputs": [
    {
     "data": {
      "text/plain": [
       "(256, 25)"
      ]
     },
     "execution_count": 3,
     "metadata": {},
     "output_type": "execute_result"
    }
   ],
   "source": [
    "studentsData.shape"
   ]
  },
  {
   "cell_type": "code",
   "execution_count": 5,
   "id": "2c87847c",
   "metadata": {},
   "outputs": [
    {
     "name": "stdout",
     "output_type": "stream",
     "text": [
      "<class 'pandas.core.frame.DataFrame'>\n",
      "RangeIndex: 256 entries, 0 to 255\n",
      "Data columns (total 25 columns):\n",
      " #   Column                                                                                     Non-Null Count  Dtype \n",
      "---  ------                                                                                     --------------  ----- \n",
      " 0   Unnamed: 0                                                                                 256 non-null    int64 \n",
      " 1   2.Gender                                                                                   256 non-null    object\n",
      " 2   3. Year of Study                                                                           256 non-null    object\n",
      " 3   4. Branch                                                                                  256 non-null    object\n",
      " 4   1. Type of Schooling till 10th Grade:                                                      256 non-null    object\n",
      " 5   2. Percentage in Class 10th?                                                               256 non-null    object\n",
      " 6   3. Location of Class 10th School:                                                          256 non-null    object\n",
      " 7   4. Type of Schooling for class 12th:                                                       256 non-null    object\n",
      " 8   5. Percentage in Class 12th?                                                               256 non-null    object\n",
      " 9   6. Location of Class 12th School:                                                          256 non-null    object\n",
      " 10  7. Dropped an year after School?                                                           256 non-null    object\n",
      " 11  8. Are you about to become first generation graduate ?                                     256 non-null    object\n",
      " 12  9. Involved in additional volunteer groups?(NCC,NSS, Social Welfare Groups  or any other)  256 non-null    object\n",
      " 13  1. How many programming languages do you know?                                             256 non-null    object\n",
      " 14  2.  Actively involved in Specific technology?                                              256 non-null    object\n",
      " 15  3. Exposure to Data structure and algorithms?                                              256 non-null    object\n",
      " 16  4. Exposure to GitHub ?                                                                    256 non-null    object\n",
      " 17  5. Are you associated with any developer Community?                                        256 non-null    object\n",
      " 18  6. Active in developer Communities                                                         216 non-null    object\n",
      " 19  7. Participating in Hackathons and other competitions?                                     256 non-null    object\n",
      " 20  8. Have you made any Software based projects?                                              256 non-null    object\n",
      " 21  9. Have you made any Hardware based project (Arduino, Raspberry Pi, Robots or any other)?  256 non-null    object\n",
      " 22  10. Have you ever pitched any idea?                                                        256 non-null    object\n",
      " 23  11. Do you have any additional skills?                                                     256 non-null    object\n",
      " 24  Achievements:                                                                              256 non-null    object\n",
      "dtypes: int64(1), object(24)\n",
      "memory usage: 389.7 KB\n"
     ]
    }
   ],
   "source": [
    "studentsData.info(memory_usage='deep')"
   ]
  },
  {
   "cell_type": "code",
   "execution_count": 6,
   "id": "b3bb7ee1",
   "metadata": {},
   "outputs": [
    {
     "data": {
      "text/plain": [
       "Index(['Unnamed: 0', '2.Gender', '3. Year of Study', '4. Branch',\n",
       "       '1. Type of Schooling till 10th Grade:', '2. Percentage in Class 10th?',\n",
       "       '3. Location of Class 10th School:',\n",
       "       '4. Type of Schooling for class 12th:', '5. Percentage in Class 12th?',\n",
       "       '6. Location of Class 12th School:', '7. Dropped an year after School?',\n",
       "       '8. Are you about to become first generation graduate ?',\n",
       "       '9. Involved in additional volunteer groups?(NCC,NSS, Social Welfare Groups  or any other)',\n",
       "       '1. How many programming languages do you know? ',\n",
       "       '2.  Actively involved in Specific technology?',\n",
       "       '3. Exposure to Data structure and algorithms?',\n",
       "       '4. Exposure to GitHub ?',\n",
       "       '5. Are you associated with any developer Community?',\n",
       "       '6. Active in developer Communities',\n",
       "       '7. Participating in Hackathons and other competitions?',\n",
       "       '8. Have you made any Software based projects?',\n",
       "       '9. Have you made any Hardware based project (Arduino, Raspberry Pi, Robots or any other)?',\n",
       "       '10. Have you ever pitched any idea?',\n",
       "       '11. Do you have any additional skills?', 'Achievements:'],\n",
       "      dtype='object')"
      ]
     },
     "execution_count": 6,
     "metadata": {},
     "output_type": "execute_result"
    }
   ],
   "source": [
    "studentsData.columns"
   ]
  },
  {
   "cell_type": "code",
   "execution_count": 10,
   "id": "d94cd891",
   "metadata": {},
   "outputs": [],
   "source": [
    "old_columns_names = Series(['Unnamed: 0', '2.Gender', '3. Year of Study', '4. Branch',\n",
    "       '1. Type of Schooling till 10th Grade:', '2. Percentage in Class 10th?',\n",
    "       '3. Location of Class 10th School:',\n",
    "       '4. Type of Schooling for class 12th:', '5. Percentage in Class 12th?',\n",
    "       '6. Location of Class 12th School:', '7. Dropped an year after School?',\n",
    "       '8. Are you about to become first generation graduate ?',\n",
    "       '9. Involved in additional volunteer groups?(NCC,NSS, Social Welfare Groups  or any other)',\n",
    "       '1. How many programming languages do you know? ',\n",
    "       '2.  Actively involved in Specific technology?',\n",
    "       '3. Exposure to Data structure and algorithms?',\n",
    "       '4. Exposure to GitHub ?',\n",
    "       '5. Are you associated with any developer Community?',\n",
    "       '6. Active in developer Communities',\n",
    "       '7. Participating in Hackathons and other competitions?',\n",
    "       '8. Have you made any Software based projects?',\n",
    "       '9. Have you made any Hardware based project (Arduino, Raspberry Pi, Robots or any other)?',\n",
    "       '10. Have you ever pitched any idea?',\n",
    "       '11. Do you have any additional skills?', 'Achievements:'])"
   ]
  },
  {
   "cell_type": "code",
   "execution_count": 11,
   "id": "6ccb49b8",
   "metadata": {},
   "outputs": [
    {
     "data": {
      "text/plain": [
       "0                                            Unnamed: 0\n",
       "1                                              2.Gender\n",
       "2                                      3. Year of Study\n",
       "3                                             4. Branch\n",
       "4                 1. Type of Schooling till 10th Grade:\n",
       "5                          2. Percentage in Class 10th?\n",
       "6                     3. Location of Class 10th School:\n",
       "7                  4. Type of Schooling for class 12th:\n",
       "8                          5. Percentage in Class 12th?\n",
       "9                     6. Location of Class 12th School:\n",
       "10                     7. Dropped an year after School?\n",
       "11    8. Are you about to become first generation gr...\n",
       "12    9. Involved in additional volunteer groups?(NC...\n",
       "13      1. How many programming languages do you know? \n",
       "14        2.  Actively involved in Specific technology?\n",
       "15        3. Exposure to Data structure and algorithms?\n",
       "16                              4. Exposure to GitHub ?\n",
       "17    5. Are you associated with any developer Commu...\n",
       "18                   6. Active in developer Communities\n",
       "19    7. Participating in Hackathons and other compe...\n",
       "20        8. Have you made any Software based projects?\n",
       "21    9. Have you made any Hardware based project (A...\n",
       "22                  10. Have you ever pitched any idea?\n",
       "23               11. Do you have any additional skills?\n",
       "24                                        Achievements:\n",
       "dtype: object"
      ]
     },
     "execution_count": 11,
     "metadata": {},
     "output_type": "execute_result"
    }
   ],
   "source": [
    "old_columns_names"
   ]
  },
  {
   "cell_type": "code",
   "execution_count": 14,
   "id": "30399191",
   "metadata": {},
   "outputs": [],
   "source": [
    "output1= pd.read_csv(csv_file, usecols=[1,2,3,24])"
   ]
  },
  {
   "cell_type": "code",
   "execution_count": 15,
   "id": "ca303e23",
   "metadata": {},
   "outputs": [
    {
     "data": {
      "text/html": [
       "<div>\n",
       "<style scoped>\n",
       "    .dataframe tbody tr th:only-of-type {\n",
       "        vertical-align: middle;\n",
       "    }\n",
       "\n",
       "    .dataframe tbody tr th {\n",
       "        vertical-align: top;\n",
       "    }\n",
       "\n",
       "    .dataframe thead th {\n",
       "        text-align: right;\n",
       "    }\n",
       "</style>\n",
       "<table border=\"1\" class=\"dataframe\">\n",
       "  <thead>\n",
       "    <tr style=\"text-align: right;\">\n",
       "      <th></th>\n",
       "      <th>2.Gender</th>\n",
       "      <th>3. Year of Study</th>\n",
       "      <th>4. Branch</th>\n",
       "      <th>Achievements:</th>\n",
       "    </tr>\n",
       "  </thead>\n",
       "  <tbody>\n",
       "    <tr>\n",
       "      <th>0</th>\n",
       "      <td>Male</td>\n",
       "      <td>Third</td>\n",
       "      <td>CSE/IT</td>\n",
       "      <td>Scholarships;Hackathons;Research Papers;Projects</td>\n",
       "    </tr>\n",
       "    <tr>\n",
       "      <th>1</th>\n",
       "      <td>Female</td>\n",
       "      <td>Second</td>\n",
       "      <td>CSIT</td>\n",
       "      <td>None</td>\n",
       "    </tr>\n",
       "    <tr>\n",
       "      <th>2</th>\n",
       "      <td>Male</td>\n",
       "      <td>Second</td>\n",
       "      <td>CSIT</td>\n",
       "      <td>None</td>\n",
       "    </tr>\n",
       "    <tr>\n",
       "      <th>3</th>\n",
       "      <td>Male</td>\n",
       "      <td>Second</td>\n",
       "      <td>CSIT</td>\n",
       "      <td>None</td>\n",
       "    </tr>\n",
       "    <tr>\n",
       "      <th>4</th>\n",
       "      <td>Male</td>\n",
       "      <td>Second</td>\n",
       "      <td>CSIT</td>\n",
       "      <td>Hackathons;Coding Competitions;Projects</td>\n",
       "    </tr>\n",
       "    <tr>\n",
       "      <th>...</th>\n",
       "      <td>...</td>\n",
       "      <td>...</td>\n",
       "      <td>...</td>\n",
       "      <td>...</td>\n",
       "    </tr>\n",
       "    <tr>\n",
       "      <th>251</th>\n",
       "      <td>Female</td>\n",
       "      <td>Third</td>\n",
       "      <td>CSE</td>\n",
       "      <td>Projects</td>\n",
       "    </tr>\n",
       "    <tr>\n",
       "      <th>252</th>\n",
       "      <td>Male</td>\n",
       "      <td>Second</td>\n",
       "      <td>ECE</td>\n",
       "      <td>Projects</td>\n",
       "    </tr>\n",
       "    <tr>\n",
       "      <th>253</th>\n",
       "      <td>Male</td>\n",
       "      <td>Second</td>\n",
       "      <td>CSIT</td>\n",
       "      <td>Projects</td>\n",
       "    </tr>\n",
       "    <tr>\n",
       "      <th>254</th>\n",
       "      <td>Male</td>\n",
       "      <td>Second</td>\n",
       "      <td>ECE</td>\n",
       "      <td>Projects</td>\n",
       "    </tr>\n",
       "    <tr>\n",
       "      <th>255</th>\n",
       "      <td>Male</td>\n",
       "      <td>Second</td>\n",
       "      <td>MCA</td>\n",
       "      <td>Coding Competitions</td>\n",
       "    </tr>\n",
       "  </tbody>\n",
       "</table>\n",
       "<p>256 rows × 4 columns</p>\n",
       "</div>"
      ],
      "text/plain": [
       "    2.Gender 3. Year of Study 4. Branch  \\\n",
       "0       Male            Third    CSE/IT   \n",
       "1     Female           Second      CSIT   \n",
       "2       Male           Second      CSIT   \n",
       "3       Male           Second      CSIT   \n",
       "4       Male           Second      CSIT   \n",
       "..       ...              ...       ...   \n",
       "251   Female            Third       CSE   \n",
       "252     Male           Second       ECE   \n",
       "253     Male           Second      CSIT   \n",
       "254     Male           Second       ECE   \n",
       "255     Male           Second       MCA   \n",
       "\n",
       "                                        Achievements:  \n",
       "0    Scholarships;Hackathons;Research Papers;Projects  \n",
       "1                                                None  \n",
       "2                                                None  \n",
       "3                                                None  \n",
       "4             Hackathons;Coding Competitions;Projects  \n",
       "..                                                ...  \n",
       "251                                          Projects  \n",
       "252                                          Projects  \n",
       "253                                          Projects  \n",
       "254                                          Projects  \n",
       "255                               Coding Competitions  \n",
       "\n",
       "[256 rows x 4 columns]"
      ]
     },
     "execution_count": 15,
     "metadata": {},
     "output_type": "execute_result"
    }
   ],
   "source": [
    "output1"
   ]
  },
  {
   "cell_type": "code",
   "execution_count": 16,
   "id": "7d99b778",
   "metadata": {},
   "outputs": [],
   "source": [
    "num_lines_input_file = len(studentsData)"
   ]
  },
  {
   "cell_type": "code",
   "execution_count": 17,
   "id": "dc1abb2d",
   "metadata": {},
   "outputs": [
    {
     "name": "stdout",
     "output_type": "stream",
     "text": [
      "Number of lines of input file: 256\n"
     ]
    }
   ],
   "source": [
    "print(\"Number of lines of input file:\", num_lines_input_file)"
   ]
  },
  {
   "cell_type": "code",
   "execution_count": 18,
   "id": "7df78b40",
   "metadata": {},
   "outputs": [],
   "source": [
    "num_lines_output1_file = len(output1)"
   ]
  },
  {
   "cell_type": "code",
   "execution_count": 19,
   "id": "d6c8213b",
   "metadata": {},
   "outputs": [
    {
     "name": "stdout",
     "output_type": "stream",
     "text": [
      "Number of lines of output1 file: 256\n"
     ]
    }
   ],
   "source": [
    "print(\"Number of lines of output1 file:\", num_lines_output1_file)"
   ]
  },
  {
   "cell_type": "code",
   "execution_count": 24,
   "id": "81d6ba44",
   "metadata": {},
   "outputs": [],
   "source": [
    "subset= studentsData.loc[0:10,['2.Gender','3. Year of Study', 'Achievements:']]"
   ]
  },
  {
   "cell_type": "code",
   "execution_count": 25,
   "id": "72956356",
   "metadata": {},
   "outputs": [
    {
     "data": {
      "text/html": [
       "<div>\n",
       "<style scoped>\n",
       "    .dataframe tbody tr th:only-of-type {\n",
       "        vertical-align: middle;\n",
       "    }\n",
       "\n",
       "    .dataframe tbody tr th {\n",
       "        vertical-align: top;\n",
       "    }\n",
       "\n",
       "    .dataframe thead th {\n",
       "        text-align: right;\n",
       "    }\n",
       "</style>\n",
       "<table border=\"1\" class=\"dataframe\">\n",
       "  <thead>\n",
       "    <tr style=\"text-align: right;\">\n",
       "      <th></th>\n",
       "      <th>2.Gender</th>\n",
       "      <th>3. Year of Study</th>\n",
       "      <th>Achievements:</th>\n",
       "    </tr>\n",
       "  </thead>\n",
       "  <tbody>\n",
       "    <tr>\n",
       "      <th>0</th>\n",
       "      <td>Male</td>\n",
       "      <td>Third</td>\n",
       "      <td>Scholarships;Hackathons;Research Papers;Projects</td>\n",
       "    </tr>\n",
       "    <tr>\n",
       "      <th>1</th>\n",
       "      <td>Female</td>\n",
       "      <td>Second</td>\n",
       "      <td>None</td>\n",
       "    </tr>\n",
       "    <tr>\n",
       "      <th>2</th>\n",
       "      <td>Male</td>\n",
       "      <td>Second</td>\n",
       "      <td>None</td>\n",
       "    </tr>\n",
       "    <tr>\n",
       "      <th>3</th>\n",
       "      <td>Male</td>\n",
       "      <td>Second</td>\n",
       "      <td>None</td>\n",
       "    </tr>\n",
       "    <tr>\n",
       "      <th>4</th>\n",
       "      <td>Male</td>\n",
       "      <td>Second</td>\n",
       "      <td>Hackathons;Coding Competitions;Projects</td>\n",
       "    </tr>\n",
       "    <tr>\n",
       "      <th>5</th>\n",
       "      <td>Male</td>\n",
       "      <td>Second</td>\n",
       "      <td>Scholarships;Hackathons;Coding Competitions;Pr...</td>\n",
       "    </tr>\n",
       "    <tr>\n",
       "      <th>6</th>\n",
       "      <td>Female</td>\n",
       "      <td>Second</td>\n",
       "      <td>None</td>\n",
       "    </tr>\n",
       "    <tr>\n",
       "      <th>7</th>\n",
       "      <td>Male</td>\n",
       "      <td>Second</td>\n",
       "      <td>None</td>\n",
       "    </tr>\n",
       "    <tr>\n",
       "      <th>8</th>\n",
       "      <td>Male</td>\n",
       "      <td>Second</td>\n",
       "      <td>Scholarships;Hackathons;Coding Competitions;Re...</td>\n",
       "    </tr>\n",
       "    <tr>\n",
       "      <th>9</th>\n",
       "      <td>Male</td>\n",
       "      <td>Second</td>\n",
       "      <td>Coding Competitions</td>\n",
       "    </tr>\n",
       "    <tr>\n",
       "      <th>10</th>\n",
       "      <td>Female</td>\n",
       "      <td>Second</td>\n",
       "      <td>None</td>\n",
       "    </tr>\n",
       "  </tbody>\n",
       "</table>\n",
       "</div>"
      ],
      "text/plain": [
       "   2.Gender 3. Year of Study  \\\n",
       "0      Male            Third   \n",
       "1    Female           Second   \n",
       "2      Male           Second   \n",
       "3      Male           Second   \n",
       "4      Male           Second   \n",
       "5      Male           Second   \n",
       "6    Female           Second   \n",
       "7      Male           Second   \n",
       "8      Male           Second   \n",
       "9      Male           Second   \n",
       "10   Female           Second   \n",
       "\n",
       "                                        Achievements:  \n",
       "0    Scholarships;Hackathons;Research Papers;Projects  \n",
       "1                                                None  \n",
       "2                                                None  \n",
       "3                                                None  \n",
       "4             Hackathons;Coding Competitions;Projects  \n",
       "5   Scholarships;Hackathons;Coding Competitions;Pr...  \n",
       "6                                                None  \n",
       "7                                                None  \n",
       "8   Scholarships;Hackathons;Coding Competitions;Re...  \n",
       "9                                 Coding Competitions  \n",
       "10                                               None  "
      ]
     },
     "execution_count": 25,
     "metadata": {},
     "output_type": "execute_result"
    }
   ],
   "source": [
    "subset"
   ]
  },
  {
   "cell_type": "code",
   "execution_count": 26,
   "id": "0524d601",
   "metadata": {},
   "outputs": [
    {
     "name": "stdout",
     "output_type": "stream",
     "text": [
      "Number of lines in output2 file: 11\n"
     ]
    }
   ],
   "source": [
    "output2 = len(subset)\n",
    "print(\"Number of lines in output2 file:\", output2)"
   ]
  },
  {
   "cell_type": "code",
   "execution_count": 28,
   "id": "125f5c9a",
   "metadata": {},
   "outputs": [
    {
     "data": {
      "text/html": [
       "<div>\n",
       "<style scoped>\n",
       "    .dataframe tbody tr th:only-of-type {\n",
       "        vertical-align: middle;\n",
       "    }\n",
       "\n",
       "    .dataframe tbody tr th {\n",
       "        vertical-align: top;\n",
       "    }\n",
       "\n",
       "    .dataframe thead th {\n",
       "        text-align: right;\n",
       "    }\n",
       "</style>\n",
       "<table border=\"1\" class=\"dataframe\">\n",
       "  <thead>\n",
       "    <tr style=\"text-align: right;\">\n",
       "      <th></th>\n",
       "      <th>2.Gender</th>\n",
       "      <th>3. Year of Study</th>\n",
       "      <th>Achievements:</th>\n",
       "    </tr>\n",
       "  </thead>\n",
       "  <tbody>\n",
       "    <tr>\n",
       "      <th>1</th>\n",
       "      <td>Female</td>\n",
       "      <td>Second</td>\n",
       "      <td>None</td>\n",
       "    </tr>\n",
       "    <tr>\n",
       "      <th>6</th>\n",
       "      <td>Female</td>\n",
       "      <td>Second</td>\n",
       "      <td>None</td>\n",
       "    </tr>\n",
       "    <tr>\n",
       "      <th>10</th>\n",
       "      <td>Female</td>\n",
       "      <td>Second</td>\n",
       "      <td>None</td>\n",
       "    </tr>\n",
       "  </tbody>\n",
       "</table>\n",
       "</div>"
      ],
      "text/plain": [
       "   2.Gender 3. Year of Study Achievements:\n",
       "1    Female           Second          None\n",
       "6    Female           Second          None\n",
       "10   Female           Second          None"
      ]
     },
     "execution_count": 28,
     "metadata": {},
     "output_type": "execute_result"
    }
   ],
   "source": [
    "subset.loc[subset['2.Gender']=='Female', :]"
   ]
  },
  {
   "cell_type": "code",
   "execution_count": null,
   "id": "ff58f10a",
   "metadata": {},
   "outputs": [],
   "source": []
  }
 ],
 "metadata": {
  "kernelspec": {
   "display_name": "Python 3 (ipykernel)",
   "language": "python",
   "name": "python3"
  },
  "language_info": {
   "codemirror_mode": {
    "name": "ipython",
    "version": 3
   },
   "file_extension": ".py",
   "mimetype": "text/x-python",
   "name": "python",
   "nbconvert_exporter": "python",
   "pygments_lexer": "ipython3",
   "version": "3.10.9"
  }
 },
 "nbformat": 4,
 "nbformat_minor": 5
}
