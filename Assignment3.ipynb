{
 "cells": [
  {
   "cell_type": "code",
   "execution_count": 1,
   "id": "ce06317b",
   "metadata": {},
   "outputs": [],
   "source": [
    "import psycopg2 as pg"
   ]
  },
  {
   "cell_type": "code",
   "execution_count": 4,
   "id": "74a0af36",
   "metadata": {},
   "outputs": [],
   "source": [
    "conn = pg.connect(\n",
    "    host=\"localhost\",\n",
    "    database=\"Learning\",\n",
    "    user=\"postgres\",\n",
    "    password=\"Mydb23!\",\n",
    "    port=\"5432\"\n",
    ")"
   ]
  },
  {
   "cell_type": "code",
   "execution_count": 5,
   "id": "db8644f1",
   "metadata": {},
   "outputs": [],
   "source": [
    "cursor = conn.cursor()"
   ]
  },
  {
   "cell_type": "code",
   "execution_count": 6,
   "id": "3a00b301",
   "metadata": {},
   "outputs": [],
   "source": [
    "insert_query = \"\"\"\n",
    "    INSERT INTO job (job_name)\n",
    "    VALUES ('Singer')\n",
    "\"\"\""
   ]
  },
  {
   "cell_type": "code",
   "execution_count": 7,
   "id": "e3399f57",
   "metadata": {},
   "outputs": [],
   "source": [
    "cursor.execute(insert_query)"
   ]
  },
  {
   "cell_type": "code",
   "execution_count": 8,
   "id": "41b95cad",
   "metadata": {},
   "outputs": [],
   "source": [
    "conn.commit()"
   ]
  },
  {
   "cell_type": "code",
   "execution_count": 9,
   "id": "c6474aa2",
   "metadata": {},
   "outputs": [],
   "source": [
    "cursor.execute(\"SELECT * FROM job\")"
   ]
  },
  {
   "cell_type": "code",
   "execution_count": 10,
   "id": "658d6352",
   "metadata": {},
   "outputs": [],
   "source": [
    "rows = cursor.fetchall()"
   ]
  },
  {
   "cell_type": "code",
   "execution_count": 11,
   "id": "86a80315",
   "metadata": {},
   "outputs": [
    {
     "name": "stdout",
     "output_type": "stream",
     "text": [
      "(1, 'Pilot')\n",
      "(2, 'Software Engineer')\n",
      "(3, 'Actor')\n",
      "(4, 'Singer')\n"
     ]
    }
   ],
   "source": [
    "for row in rows:\n",
    "    print(row)"
   ]
  },
  {
   "cell_type": "code",
   "execution_count": 12,
   "id": "f9e4afb9",
   "metadata": {},
   "outputs": [],
   "source": [
    "create_table_query = \"\"\"\n",
    "    CREATE TABLE account_job_details (\n",
    "        user_id INTEGER,\n",
    "        user_name VARCHAR(50) NOT NULL,\n",
    "        job_id INTEGER,\n",
    "        job_name VARCHAR(50) NOT NULL\n",
    "    );\n",
    "\"\"\""
   ]
  },
  {
   "cell_type": "code",
   "execution_count": 13,
   "id": "e8d25202",
   "metadata": {},
   "outputs": [],
   "source": [
    "cursor.execute(create_table_query)"
   ]
  },
  {
   "cell_type": "code",
   "execution_count": 14,
   "id": "e5c0f1d7",
   "metadata": {},
   "outputs": [],
   "source": [
    "insert_ajd_query = \"\"\"\n",
    "    INSERT INTO account_job_details (user_id, user_name, job_id, job_name)\n",
    "    SELECT account.user_id, account.username, account_job.job_id, job.job_name\n",
    "    FROM account\n",
    "    INNER JOIN account_job ON account.user_id = account_job.user_id\n",
    "    INNER JOIN job ON account_job.job_id = job.job_id\n",
    "\"\"\""
   ]
  },
  {
   "cell_type": "code",
   "execution_count": 15,
   "id": "1eba8837",
   "metadata": {},
   "outputs": [],
   "source": [
    "cursor.execute(insert_ajd_query)"
   ]
  },
  {
   "cell_type": "code",
   "execution_count": 16,
   "id": "2169957c",
   "metadata": {},
   "outputs": [],
   "source": [
    "conn.commit()"
   ]
  },
  {
   "cell_type": "code",
   "execution_count": 17,
   "id": "4f3082f7",
   "metadata": {},
   "outputs": [],
   "source": [
    "cursor.close()"
   ]
  },
  {
   "cell_type": "code",
   "execution_count": 19,
   "id": "0591ccfd",
   "metadata": {},
   "outputs": [],
   "source": [
    "conn.close()"
   ]
  },
  {
   "cell_type": "code",
   "execution_count": null,
   "id": "63a2925c",
   "metadata": {},
   "outputs": [],
   "source": []
  }
 ],
 "metadata": {
  "kernelspec": {
   "display_name": "Python 3 (ipykernel)",
   "language": "python",
   "name": "python3"
  },
  "language_info": {
   "codemirror_mode": {
    "name": "ipython",
    "version": 3
   },
   "file_extension": ".py",
   "mimetype": "text/x-python",
   "name": "python",
   "nbconvert_exporter": "python",
   "pygments_lexer": "ipython3",
   "version": "3.10.9"
  }
 },
 "nbformat": 4,
 "nbformat_minor": 5
}
